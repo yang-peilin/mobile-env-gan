{
 "cells": [
  {
   "cell_type": "code",
   "execution_count": 1,
   "metadata": {},
   "outputs": [
    {
     "name": "stdout",
     "output_type": "stream",
     "text": [
      "D:\\桌面\\NUS\\Tham Project\\mobile-env-gan\n"
     ]
    }
   ],
   "source": [
    "import sys\n",
    "import os\n",
    "\n",
    "# project_path = r\"D:\\桌面\\NUS\\Tham Project\\mobile-env-gan\"\n",
    "# sys.path.append(os.path.abspath(project_path))\n",
    "\n",
    "os.chdir(\"D:/桌面/NUS/Tham Project/mobile-env-gan\")\n",
    "print(os.getcwd())  # 确认已经切换到项目根目录"
   ]
  },
  {
   "cell_type": "code",
   "execution_count": 2,
   "metadata": {},
   "outputs": [
    {
     "name": "stdout",
     "output_type": "stream",
     "text": [
      "pygame 2.6.1 (SDL 2.28.4, Python 3.10.15)\n",
      "Hello from the pygame community. https://www.pygame.org/contribute.html\n"
     ]
    },
    {
     "data": {
      "text/plain": [
       "{'width': 200,\n",
       " 'height': 200,\n",
       " 'EP_MAX_TIME': 20,\n",
       " 'seed': 2024,\n",
       " 'reset_rng_episode': False,\n",
       " 'arrival': mobile_env.core.arrival.NoDeparture,\n",
       " 'channel': mobile_env.core.channels.OkumuraHata,\n",
       " 'scheduler': mobile_env.core.schedules.ResourceFair,\n",
       " 'movement': mobile_env.core.movement.RandomWaypointMovement,\n",
       " 'utility': mobile_env.core.utilities.BoundedLogUtility,\n",
       " 'bs': {'bw': 9000000.0, 'freq': 2500, 'tx': 30, 'height': 50},\n",
       " 'ue': {'velocity': 10, 'snr_tr': 2e-08, 'noise': 1e-09, 'height': 1.5},\n",
       " 'arrival_params': {'ep_time': 20, 'reset_rng_episode': False},\n",
       " 'channel_params': {},\n",
       " 'scheduler_params': {},\n",
       " 'movement_params': {'width': 200, 'height': 200, 'reset_rng_episode': False},\n",
       " 'utility_params': {'lower': -20, 'upper': 20, 'coeffs': (10, 0, 10)},\n",
       " 'metrics': {'scalar_metrics': {}, 'ue_metrics': {}, 'bs_metrics': {}}}"
      ]
     },
     "execution_count": 2,
     "metadata": {},
     "output_type": "execute_result"
    }
   ],
   "source": [
    "import matplotlib.pyplot as plt\n",
    "from IPython import display\n",
    "from mobile_env.scenarios.custom import MComCustom\n",
    "\n",
    "# 创建环境实例\n",
    "env = MComCustom(render_mode=\"rgb_array\")\n",
    "env.default_config()"
   ]
  },
  {
   "cell_type": "code",
   "execution_count": null,
   "metadata": {
    "collapsed": false,
    "jupyter": {
     "outputs_hidden": false
    },
    "pycharm": {
     "name": "#%%\n"
    }
   },
   "outputs": [
    {
     "ename": "KeyboardInterrupt",
     "evalue": "",
     "output_type": "error",
     "traceback": [
      "\u001B[1;31m---------------------------------------------------------------------------\u001B[0m",
      "\u001B[1;31mKeyboardInterrupt\u001B[0m                         Traceback (most recent call last)",
      "Cell \u001B[1;32mIn[3], line 20\u001B[0m\n\u001B[0;32m     17\u001B[0m \u001B[38;5;66;03m# 调用 features 以记录每一步的数据\u001B[39;00m\n\u001B[0;32m     18\u001B[0m env\u001B[38;5;241m.\u001B[39mfeatures()\n\u001B[1;32m---> 20\u001B[0m plt\u001B[38;5;241m.\u001B[39mimshow(\u001B[43menv\u001B[49m\u001B[38;5;241;43m.\u001B[39;49m\u001B[43mrender\u001B[49m\u001B[43m(\u001B[49m\u001B[43m)\u001B[49m)\n\u001B[0;32m     21\u001B[0m display\u001B[38;5;241m.\u001B[39mdisplay(plt\u001B[38;5;241m.\u001B[39mgcf())\n\u001B[0;32m     22\u001B[0m display\u001B[38;5;241m.\u001B[39mclear_output(wait\u001B[38;5;241m=\u001B[39m\u001B[38;5;28;01mTrue\u001B[39;00m)\n",
      "File \u001B[1;32mD:\\桌面\\NUS\\Tham Project\\mobile-env-gan\\mobile_env\\core\\base.py:608\u001B[0m, in \u001B[0;36mMComCore.render\u001B[1;34m(self)\u001B[0m\n\u001B[0;32m    605\u001B[0m \u001B[38;5;66;03m# 只有当仿真时间大于 0 时，才进行渲染操作\u001B[39;00m\n\u001B[0;32m    606\u001B[0m \u001B[38;5;28;01mif\u001B[39;00m \u001B[38;5;28mself\u001B[39m\u001B[38;5;241m.\u001B[39mtime \u001B[38;5;241m>\u001B[39m \u001B[38;5;241m0\u001B[39m:\n\u001B[0;32m    607\u001B[0m     \u001B[38;5;66;03m# 渲染仿真主图，显示基站、用户设备、连接等信息\u001B[39;00m\n\u001B[1;32m--> 608\u001B[0m     \u001B[38;5;28;43mself\u001B[39;49m\u001B[38;5;241;43m.\u001B[39;49m\u001B[43mrender_simulation\u001B[49m\u001B[43m(\u001B[49m\u001B[43msim_ax\u001B[49m\u001B[43m)\u001B[49m\n\u001B[0;32m    609\u001B[0m     \u001B[38;5;66;03m# 渲染仪表盘，可能显示一些仿真过程中的关键数据或指标\u001B[39;00m\n\u001B[0;32m    610\u001B[0m     \u001B[38;5;28mself\u001B[39m\u001B[38;5;241m.\u001B[39mrender_dashboard(dash_ax)\n",
      "File \u001B[1;32mD:\\桌面\\NUS\\Tham Project\\mobile-env-gan\\mobile_env\\core\\base.py:683\u001B[0m, in \u001B[0;36mMComCore.render_simulation\u001B[1;34m(self, ax)\u001B[0m\n\u001B[0;32m    679\u001B[0m utility \u001B[38;5;241m=\u001B[39m \u001B[38;5;28mself\u001B[39m\u001B[38;5;241m.\u001B[39mutility\u001B[38;5;241m.\u001B[39munscale(utility)\n\u001B[0;32m    680\u001B[0m color \u001B[38;5;241m=\u001B[39m colormap(unorm(utility))\n\u001B[0;32m    682\u001B[0m ax\u001B[38;5;241m.\u001B[39mscatter(\n\u001B[1;32m--> 683\u001B[0m     \u001B[43mue\u001B[49m\u001B[38;5;241;43m.\u001B[39;49m\u001B[43mpoint\u001B[49m\u001B[38;5;241m.\u001B[39mx,\n\u001B[0;32m    684\u001B[0m     ue\u001B[38;5;241m.\u001B[39mpoint\u001B[38;5;241m.\u001B[39my,  \u001B[38;5;66;03m# 分别表示用户设备的位置的 x 坐标和 y 坐标\u001B[39;00m\n\u001B[0;32m    685\u001B[0m     s\u001B[38;5;241m=\u001B[39m\u001B[38;5;241m200\u001B[39m,  \u001B[38;5;66;03m# 设置散点的大小为 200\u001B[39;00m\n\u001B[0;32m    686\u001B[0m     zorder\u001B[38;5;241m=\u001B[39m\u001B[38;5;241m2\u001B[39m,\n\u001B[0;32m    687\u001B[0m     color\u001B[38;5;241m=\u001B[39mcolor,\n\u001B[0;32m    688\u001B[0m     marker\u001B[38;5;241m=\u001B[39m\u001B[38;5;124m\"\u001B[39m\u001B[38;5;124mo\u001B[39m\u001B[38;5;124m\"\u001B[39m,\n\u001B[0;32m    689\u001B[0m )\n\u001B[0;32m    690\u001B[0m \u001B[38;5;66;03m# 在每个用户设备的旁边标注用户设备的ID\u001B[39;00m\n\u001B[0;32m    691\u001B[0m ax\u001B[38;5;241m.\u001B[39mannotate(ue\u001B[38;5;241m.\u001B[39mue_id, xy\u001B[38;5;241m=\u001B[39m(ue\u001B[38;5;241m.\u001B[39mpoint\u001B[38;5;241m.\u001B[39mx, ue\u001B[38;5;241m.\u001B[39mpoint\u001B[38;5;241m.\u001B[39my), ha\u001B[38;5;241m=\u001B[39m\u001B[38;5;124m\"\u001B[39m\u001B[38;5;124mcenter\u001B[39m\u001B[38;5;124m\"\u001B[39m, va\u001B[38;5;241m=\u001B[39m\u001B[38;5;124m\"\u001B[39m\u001B[38;5;124mcenter\u001B[39m\u001B[38;5;124m\"\u001B[39m)\n",
      "File \u001B[1;32mD:\\桌面\\NUS\\Tham Project\\mobile-env-gan\\mobile_env\\core\\entities.py:54\u001B[0m, in \u001B[0;36mUserEquipment.point\u001B[1;34m(self)\u001B[0m\n\u001B[0;32m     52\u001B[0m \u001B[38;5;129m@property\u001B[39m\n\u001B[0;32m     53\u001B[0m \u001B[38;5;28;01mdef\u001B[39;00m \u001B[38;5;21mpoint\u001B[39m(\u001B[38;5;28mself\u001B[39m):\n\u001B[1;32m---> 54\u001B[0m     \u001B[38;5;28;01mreturn\u001B[39;00m \u001B[43mPoint\u001B[49m\u001B[43m(\u001B[49m\u001B[38;5;28;43mint\u001B[39;49m\u001B[43m(\u001B[49m\u001B[38;5;28;43mself\u001B[39;49m\u001B[38;5;241;43m.\u001B[39;49m\u001B[43mx\u001B[49m\u001B[43m)\u001B[49m\u001B[43m,\u001B[49m\u001B[43m \u001B[49m\u001B[38;5;28;43mint\u001B[39;49m\u001B[43m(\u001B[49m\u001B[38;5;28;43mself\u001B[39;49m\u001B[38;5;241;43m.\u001B[39;49m\u001B[43my\u001B[49m\u001B[43m)\u001B[49m\u001B[43m)\u001B[49m\n",
      "File \u001B[1;32mD:\\anaconda\\envs\\nus\\lib\\site-packages\\shapely\\geometry\\point.py:78\u001B[0m, in \u001B[0;36mPoint.__new__\u001B[1;34m(self, *args)\u001B[0m\n\u001B[0;32m     76\u001B[0m \u001B[38;5;28;01mif\u001B[39;00m \u001B[38;5;129;01mnot\u001B[39;00m np\u001B[38;5;241m.\u001B[39missubdtype(coords\u001B[38;5;241m.\u001B[39mdtype, np\u001B[38;5;241m.\u001B[39mnumber):\n\u001B[0;32m     77\u001B[0m     coords \u001B[38;5;241m=\u001B[39m [\u001B[38;5;28mfloat\u001B[39m(c) \u001B[38;5;28;01mfor\u001B[39;00m c \u001B[38;5;129;01min\u001B[39;00m coords]\n\u001B[1;32m---> 78\u001B[0m geom \u001B[38;5;241m=\u001B[39m \u001B[43mshapely\u001B[49m\u001B[38;5;241;43m.\u001B[39;49m\u001B[43mpoints\u001B[49m\u001B[43m(\u001B[49m\u001B[43mcoords\u001B[49m\u001B[43m)\u001B[49m\n\u001B[0;32m     79\u001B[0m \u001B[38;5;28;01mif\u001B[39;00m \u001B[38;5;129;01mnot\u001B[39;00m \u001B[38;5;28misinstance\u001B[39m(geom, Point):\n\u001B[0;32m     80\u001B[0m     \u001B[38;5;28;01mraise\u001B[39;00m \u001B[38;5;167;01mValueError\u001B[39;00m(\u001B[38;5;124m\"\u001B[39m\u001B[38;5;124mInvalid values passed to Point constructor\u001B[39m\u001B[38;5;124m\"\u001B[39m)\n",
      "File \u001B[1;32mD:\\anaconda\\envs\\nus\\lib\\site-packages\\shapely\\decorators.py:77\u001B[0m, in \u001B[0;36mmultithreading_enabled.<locals>.wrapped\u001B[1;34m(*args, **kwargs)\u001B[0m\n\u001B[0;32m     75\u001B[0m     \u001B[38;5;28;01mfor\u001B[39;00m arr \u001B[38;5;129;01min\u001B[39;00m array_args:\n\u001B[0;32m     76\u001B[0m         arr\u001B[38;5;241m.\u001B[39mflags\u001B[38;5;241m.\u001B[39mwriteable \u001B[38;5;241m=\u001B[39m \u001B[38;5;28;01mFalse\u001B[39;00m\n\u001B[1;32m---> 77\u001B[0m     \u001B[38;5;28;01mreturn\u001B[39;00m func(\u001B[38;5;241m*\u001B[39margs, \u001B[38;5;241m*\u001B[39m\u001B[38;5;241m*\u001B[39mkwargs)\n\u001B[0;32m     78\u001B[0m \u001B[38;5;28;01mfinally\u001B[39;00m:\n\u001B[0;32m     79\u001B[0m     \u001B[38;5;28;01mfor\u001B[39;00m arr, old_flag \u001B[38;5;129;01min\u001B[39;00m \u001B[38;5;28mzip\u001B[39m(array_args, old_flags):\n",
      "File \u001B[1;32mD:\\anaconda\\envs\\nus\\lib\\site-packages\\shapely\\creation.py:74\u001B[0m, in \u001B[0;36mpoints\u001B[1;34m(coords, y, z, indices, out, **kwargs)\u001B[0m\n\u001B[0;32m     72\u001B[0m coords \u001B[38;5;241m=\u001B[39m _xyz_to_coords(coords, y, z)\n\u001B[0;32m     73\u001B[0m \u001B[38;5;28;01mif\u001B[39;00m indices \u001B[38;5;129;01mis\u001B[39;00m \u001B[38;5;28;01mNone\u001B[39;00m:\n\u001B[1;32m---> 74\u001B[0m     \u001B[38;5;28;01mreturn\u001B[39;00m lib\u001B[38;5;241m.\u001B[39mpoints(coords, out\u001B[38;5;241m=\u001B[39mout, \u001B[38;5;241m*\u001B[39m\u001B[38;5;241m*\u001B[39mkwargs)\n\u001B[0;32m     75\u001B[0m \u001B[38;5;28;01melse\u001B[39;00m:\n\u001B[0;32m     76\u001B[0m     \u001B[38;5;28;01mreturn\u001B[39;00m simple_geometries_1d(coords, indices, GeometryType\u001B[38;5;241m.\u001B[39mPOINT, out\u001B[38;5;241m=\u001B[39mout)\n",
      "\u001B[1;31mKeyboardInterrupt\u001B[0m: "
     ]
    },
    {
     "name": "stdout",
     "output_type": "stream",
     "text": [
      "Error in callback <function _draw_all_if_interactive at 0x0000022BC3092050> (for post_execute), with arguments args (),kwargs {}:\n"
     ]
    }
   ],
   "source": [
    "# 数据收集主循环\n",
    "for idx in range(15):\n",
    "    # 重置环境，并生成新的基站位置\n",
    "    env.reset()\n",
    "    done = False\n",
    "\n",
    "    # 手动重置等值线信息\n",
    "    env.conn_isolines = None\n",
    "    env.mb_isolines = None\n",
    "    \n",
    "    print(\"current idx:\", idx)\n",
    "    # 模拟用户移动\n",
    "    for _ in range(20):\n",
    "        # 调用 step 方法，模拟时间推进\n",
    "        info = env.step()\n",
    "\n",
    "        # 调用 features 以记录每一步的数据\n",
    "        env.features()\n",
    "\n",
    "        plt.imshow(env.render())\n",
    "        display.display(plt.gcf())\n",
    "        display.clear_output(wait=True)\n",
    "\n",
    "    # 保存每次得到的数据到 CSV 文件\n",
    "    env.save_all_step_data(idx)\n",
    "    \n",
    "    # 清空数据，准备下一轮循环\n",
    "    env.all_step_datarates = {}\n",
    "    env.all_step_utilities = {}\n",
    "\n",
    "print(\"数据收集完成。\")"
   ]
  },
  {
   "cell_type": "code",
   "execution_count": null,
   "metadata": {},
   "outputs": [],
   "source": []
  }
 ],
 "metadata": {
  "kernelspec": {
   "display_name": "Python 3 (ipykernel)",
   "language": "python",
   "name": "python3"
  },
  "language_info": {
   "codemirror_mode": {
    "name": "ipython",
    "version": 3
   },
   "file_extension": ".py",
   "mimetype": "text/x-python",
   "name": "python",
   "nbconvert_exporter": "python",
   "pygments_lexer": "ipython3",
   "version": "3.10.15"
  }
 },
 "nbformat": 4,
 "nbformat_minor": 4
}